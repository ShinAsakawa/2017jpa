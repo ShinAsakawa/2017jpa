{
 "cells": [
  {
   "cell_type": "code",
   "execution_count": 3,
   "metadata": {},
   "outputs": [
    {
     "name": "stderr",
     "output_type": "stream",
     "text": [
      "Using TensorFlow backend.\n"
     ]
    }
   ],
   "source": [
    "# -*- coding: utf-8 -*-\n",
    "from __future__ import absolute_import\n",
    "from __future__ import print_function\n",
    "from six.moves import range\n",
    "from six.moves.urllib import request\n",
    "\n",
    "import numpy as np\n",
    "import os\n",
    "import sys\n",
    "import gensim\n",
    "\n",
    "import locale\n",
    "# enc = locale.getpreferredencoding()\n",
    "enc = locale.setlocale(2, 'ja_JP.UTF-8')\n",
    "#enc"
   ]
  },
  {
   "cell_type": "code",
   "execution_count": 4,
   "metadata": {},
   "outputs": [],
   "source": [
    "#import tempfile\n",
    "#import filelock\n",
    "from six.moves.urllib import request\n",
    "\n",
    "#request.urlretrieve(url, temp_path)"
   ]
  },
  {
   "cell_type": "code",
   "execution_count": 5,
   "metadata": {},
   "outputs": [],
   "source": [
    "def downloadModel(filename, forceDownload=False):\n",
    "    \"\"\"\n",
    "    Downloading word2vec models from Tokyo Women's Christian univ.\n",
    "    \"\"\"\n",
    "    url = 'http://www.cis.twcu.ac.jp/~asakawa/2017jpa'\n",
    "    #targetCBOW = '2017Jul_jawiki-wakati_neologd_hid200_win20_neg10_cbow.bin.gz'\n",
    "    #targetSkipgram = '2017Jul_jawiki-wakati_neologd_hid200_win20_neg10_sgns.bin.gz'\n",
    "    #targetCBOW300 = '2017Jul_jawiki-wakati_neologd_hid300_win20_neg10_cbow.bin.gz'\n",
    "    #targetSkipgram300 = '2017Jul_jawiki-wakati_neologd_hid300_win20_neg10_sgns.bin.gz'\n",
    "    sizeDict = {'2017Jul_jawiki-wakati_neologd_hid200_win20_neg20_sgns.bin.gz': 1367091440,\n",
    "                '2017Jul_jawiki-wakati_neologd_hid200_win20_neg20_cbow.bin.gz': 1369049082,\n",
    "                '2017Jul_jawiki-wakati_neologd_hid300_win20_neg10_sgns.bin.gz': 2037576530,\n",
    "                '2017Jul_jawiki-wakati_neologd_hid300_win20_neg10_sgns.bin.gz': 2041172321,\n",
    "                'deep_fasttext.ipynb': 7086}\n",
    "    expectedSize = sizeDict[filename]\n",
    "    path = os.getcwd()\n",
    "    dest_filename = os.path.join(path, filename)\n",
    "    \n",
    "    if os.path.exists(dest_filename):\n",
    "        statinfo = os.stat(dest_filename)\n",
    "        if statinfo.st_size != expectedSize:\n",
    "            forceDownload = True\n",
    "            print(\"File {} not expected size, forcing download\".format(filename))\n",
    "        else:\n",
    "            print(\"File '{}' allready downloaded.\".format(filename))\n",
    "\n",
    "    if forceDownload == True or not os.path.exists(dest_filename):\n",
    "        print('Attempting to download: {}'.format(filename)) \n",
    "        request.urlretrieve(url + '/' + filename, dest_filename)\n",
    "        print(\"Downloaded '{}' successfully\".format(filename))"
   ]
  },
  {
   "cell_type": "code",
   "execution_count": 6,
   "metadata": {},
   "outputs": [
    {
     "name": "stdout",
     "output_type": "stream",
     "text": [
      "File '2017Jul_jawiki-wakati_neologd_hid200_win20_neg20_cbow.bin.gz' allready downloaded.\n"
     ]
    }
   ],
   "source": [
    "downloadModel('2017Jul_jawiki-wakati_neologd_hid200_win20_neg20_cbow.bin.gz', 1369049082)\n",
    "#downloadModel('2017Jul_jawiki-wakati_neologd_hid200_win20_neg20_sgns.bin.gz', 1367091440)\n",
    "#downloadModel('2017Jul_jawiki-wakati_neologd_hid300_win20_neg20_sgns.bin.gz', 2037576530)\n",
    "#downloadModel('2017Jul_jawiki-wakati_neologd_hid200_win20_neg20_cbow.bin.gz', 1369049082)\n",
    "\n",
    "# Note: you can choose one of four models above"
   ]
  },
  {
   "cell_type": "code",
   "execution_count": 7,
   "metadata": {},
   "outputs": [],
   "source": [
    "word2vec_file='2017Jul_jawiki-wakati_neologd_hid200_win20_neg20_cbow.bin.gz'\n",
    "model = gensim.models.KeyedVectors.load_word2vec_format(word2vec_file, \n",
    "                                                        encoding='utf-8', \n",
    "                                                        unicode_errors='replace', \n",
    "                                                        binary=True)"
   ]
  },
  {
   "cell_type": "code",
   "execution_count": 8,
   "metadata": {},
   "outputs": [
    {
     "data": {
      "text/plain": [
       "[('beauty', 0.46546846628189087),\n",
       " ('queen', 0.4608246386051178),\n",
       " ('african', 0.448607861995697),\n",
       " ('anna', 0.4478578269481659),\n",
       " ('inquirer', 0.44565945863723755)]"
      ]
     },
     "execution_count": 8,
     "metadata": {},
     "output_type": "execute_result"
    }
   ],
   "source": [
    "model.most_similar(positive=['woman', 'king'], negative=['man'], topn=5)"
   ]
  },
  {
   "cell_type": "code",
   "execution_count": 9,
   "metadata": {},
   "outputs": [
    {
     "data": {
      "text/plain": [
       "[('女王', 0.6859053373336792),\n",
       " ('王妃', 0.6838831305503845),\n",
       " ('臣下', 0.661135196685791),\n",
       " ('皇帝', 0.6584856510162354),\n",
       " ('后', 0.6490647792816162),\n",
       " ('妃', 0.647068440914154),\n",
       " ('国王', 0.6432377099990845),\n",
       " ('君主', 0.6425992250442505),\n",
       " ('王族', 0.6397929191589355),\n",
       " ('王家', 0.6275038123130798)]"
      ]
     },
     "execution_count": 9,
     "metadata": {},
     "output_type": "execute_result"
    }
   ],
   "source": [
    "model.most_similar(positive=['王','女'], negative=['男'], topn=10)"
   ]
  },
  {
   "cell_type": "code",
   "execution_count": null,
   "metadata": {},
   "outputs": [],
   "source": [
    "model.most_similar(positive=['日本心理学会'], negative=['心理学'], topn=10)\n",
    "model.most_similar(positive=['心理学'], negative=['科学'], topn=10)\n",
    "model.most_similar(positive=['心理学'], negative=['実験'], topn=10)"
   ]
  },
  {
   "cell_type": "code",
   "execution_count": null,
   "metadata": {},
   "outputs": [],
   "source": [
    "model.most_similar(positive=['言語','実験'], topn=10)\n",
    "model.most_similar(positive=['言語学','心理学'], topn=10)"
   ]
  },
  {
   "cell_type": "code",
   "execution_count": null,
   "metadata": {},
   "outputs": [],
   "source": [
    "model.most_similar(positive=['聴覚','認知科学'], topn=5)\n",
    "model.most_similar(positive=['視覚','認知科学'], topn=5)\n",
    "model.most_similar(positive=['視覚','認知心理学'], topn=5)\n",
    "model.most_similar(positive=['言語','思考'], topn=5)"
   ]
  },
  {
   "cell_type": "code",
   "execution_count": null,
   "metadata": {},
   "outputs": [],
   "source": [
    "model.most_similar(positive=['ユニクロ','錦織圭'], negative=['テニス'], topn=10)"
   ]
  },
  {
   "cell_type": "code",
   "execution_count": null,
   "metadata": {},
   "outputs": [],
   "source": [
    "model.most_similar(positive=['ジャイアンツ','アメリカ'], negative=['日本'], topn=10)"
   ]
  },
  {
   "cell_type": "code",
   "execution_count": null,
   "metadata": {},
   "outputs": [],
   "source": [
    "model.most_similar(positive=['ユニクロ'], negative=['アパレル'], topn=10)\n",
    "model.most_similar(positive=['ユニクロ','アメリカ'], negative=['日本'], topn=10)\n",
    "model.most_similar(positive=['ユニクロ','ソフトバンク'], negative=['アパレル'], topn=10)"
   ]
  },
  {
   "cell_type": "code",
   "execution_count": null,
   "metadata": {},
   "outputs": [],
   "source": [
    "model.most_similar(positive=['1','10'], negative=['+'], topn=5)\n",
    "model.most_similar(positive=['2','1'], negative=['+'], topn=5)\n",
    "model.most_similar(positive=['2','1','-'], topn=5)"
   ]
  },
  {
   "cell_type": "code",
   "execution_count": null,
   "metadata": {},
   "outputs": [],
   "source": [
    "model.most_similar(positive=['NTT', '中国'], topn=10)"
   ]
  },
  {
   "cell_type": "code",
   "execution_count": null,
   "metadata": {},
   "outputs": [],
   "source": [
    "model.most_similar(positive=['東京', '皇居'], topn=10)\n",
    "model.most_similar(positive=['ユニクロ', '楽天'], negative=['IT企業'], topn=10)\n",
    "model.most_similar(positive=['ユニクロ', '無印良品'], topn=10)"
   ]
  },
  {
   "cell_type": "code",
   "execution_count": null,
   "metadata": {},
   "outputs": [],
   "source": [
    "model.similarity('女性', '男性')"
   ]
  },
  {
   "cell_type": "code",
   "execution_count": null,
   "metadata": {},
   "outputs": [],
   "source": [
    "model['computer']  # raw NumPy vector of a word"
   ]
  },
  {
   "cell_type": "code",
   "execution_count": null,
   "metadata": {},
   "outputs": [],
   "source": [
    "model['コンピュータ']  # raw NumPy vector of a word"
   ]
  },
  {
   "cell_type": "code",
   "execution_count": null,
   "metadata": {},
   "outputs": [],
   "source": [
    "model.similarity('computer', 'コンピュータ')"
   ]
  },
  {
   "cell_type": "code",
   "execution_count": null,
   "metadata": {},
   "outputs": [],
   "source": [
    "model.similarity('女性', '女')"
   ]
  },
  {
   "cell_type": "code",
   "execution_count": null,
   "metadata": {},
   "outputs": [],
   "source": [
    "model.similarity('コーヒー', '紅茶')"
   ]
  },
  {
   "cell_type": "code",
   "execution_count": null,
   "metadata": {},
   "outputs": [],
   "source": [
    "model.similarity('ビール', '日本酒')"
   ]
  },
  {
   "cell_type": "code",
   "execution_count": null,
   "metadata": {},
   "outputs": [],
   "source": [
    "model.most_similar(positive=['Berlin', 'Germany'], negative=['Paris'], topn=1)"
   ]
  },
  {
   "cell_type": "code",
   "execution_count": null,
   "metadata": {},
   "outputs": [],
   "source": [
    "model.most_similar(positive=['ドイツ','フランス'], negative=['ベルリン'], topn=5)"
   ]
  },
  {
   "cell_type": "code",
   "execution_count": null,
   "metadata": {},
   "outputs": [],
   "source": [
    "model.most_similar(positive=['京都','皇居'], negative=['東京'], topn=5)"
   ]
  },
  {
   "cell_type": "code",
   "execution_count": null,
   "metadata": {},
   "outputs": [],
   "source": [
    "model.most_similar(positive=['東京','早稲田大学'], negative=['大阪'], topn=5)"
   ]
  },
  {
   "cell_type": "code",
   "execution_count": null,
   "metadata": {},
   "outputs": [],
   "source": [
    "model.most_similar(positive=['納豆','豆腐'], negative=['大豆'],topn=10)"
   ]
  },
  {
   "cell_type": "code",
   "execution_count": null,
   "metadata": {},
   "outputs": [],
   "source": [
    "model.most_similar(positive=['権力', '麻薬'], topn=10)"
   ]
  },
  {
   "cell_type": "code",
   "execution_count": null,
   "metadata": {},
   "outputs": [],
   "source": [
    "model.most_similar(positive=['治療', '修理'], topn=10)"
   ]
  },
  {
   "cell_type": "code",
   "execution_count": null,
   "metadata": {},
   "outputs": [],
   "source": [
    "model.most_similar(positive=['月', 'お盆'], topn=10)"
   ]
  },
  {
   "cell_type": "code",
   "execution_count": null,
   "metadata": {},
   "outputs": [],
   "source": []
  }
 ],
 "metadata": {
  "anaconda-cloud": {},
  "celltoolbar": "Raw Cell Format",
  "kernelspec": {
   "display_name": "Python 3",
   "language": "python",
   "name": "python3"
  },
  "language_info": {
   "codemirror_mode": {
    "name": "ipython",
    "version": 3
   },
   "file_extension": ".py",
   "mimetype": "text/x-python",
   "name": "python",
   "nbconvert_exporter": "python",
   "pygments_lexer": "ipython3",
   "version": "3.6.2"
  },
  "latex_envs": {
   "LaTeX_envs_menu_present": true,
   "autocomplete": true,
   "bibliofile": "biblio.bib",
   "cite_by": "apalike",
   "current_citInitial": 1,
   "eqLabelWithNumbers": true,
   "eqNumInitial": 1,
   "hotkeys": {
    "equation": "Ctrl-E",
    "itemize": "Ctrl-I"
   },
   "labels_anchors": false,
   "latex_user_defs": false,
   "report_style_numbering": false,
   "user_envs_cfg": false
  }
 },
 "nbformat": 4,
 "nbformat_minor": 2
}
